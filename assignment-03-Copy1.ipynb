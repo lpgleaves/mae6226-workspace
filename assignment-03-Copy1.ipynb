{
 "cells": [
  {
   "cell_type": "markdown",
   "metadata": {},
   "source": [
    "# Assignment 3 (Lesson 11)"
   ]
  },
  {
   "cell_type": "code",
   "execution_count": 1,
   "metadata": {
    "collapsed": false
   },
   "outputs": [],
   "source": [
    "import numpy\n",
    "import math\n",
    "from matplotlib import pyplot\n",
    "# embed the figures into the notebook\n",
    "%matplotlib inline\n",
    "%run ./definitions.ipynb\n",
    "\n",
    "import os\n",
    "import numpy\n",
    "from scipy import integrate, linalg"
   ]
  },
  {
   "cell_type": "markdown",
   "metadata": {
    "collapsed": true
   },
   "source": [
    "## Part 1: Williams' test case"
   ]
  },
  {
   "cell_type": "code",
   "execution_count": 2,
   "metadata": {
    "collapsed": false
   },
   "outputs": [
    {
     "data": {
      "image/png": "[encoded data removed]",
      "text/plain": [
       "<matplotlib.figure.Figure at 0x7f5820ad4c50>"
      ]
     },
     "metadata": {},
     "output_type": "display_data"
    }
   ],
   "source": [
    "# some knowns\n",
    "N = 200               # each\n",
    "Nx, Ny = 200, 200     # just for consistency\n",
    "steps = 1\n",
    "\n",
    "# some initializing\n",
    "panels = numpy.empty((steps,2*N), dtype=object)\n",
    "mainpanels = numpy.empty((steps,N), dtype=object)\n",
    "flappanels = numpy.empty((steps,N), dtype=object)\n",
    "xf = numpy.empty((steps,2*N), dtype=object)\n",
    "yf = numpy.empty((steps,2*N), dtype=object)\n",
    "u, v = numpy.empty((steps, Nx, Ny), dtype=float), \\\n",
    "        numpy.empty((steps, Nx, Ny), dtype=float)\n",
    "cp = numpy.empty((steps, Nx, Ny), dtype=float)\n",
    "# accuracy = numpy.empty(steps, dtype=float)\n",
    "lift, drag = numpy.empty(steps, dtype=float),numpy.empty(steps, dtype=float)\n",
    "cl = numpy.empty(steps, dtype=float)\n",
    "u_inf = 1.0\n",
    "alpha = 0.0\n",
    "freestream = Freestream(u_inf, alpha)\n",
    "\n",
    "# picking up some x and y values\n",
    "mainfoilpath = os.path.join('resources','MainFoil_N=200.csv')\n",
    "with open (mainfoilpath, 'r') as file_name:\n",
    "    xmain, ymain = numpy.loadtxt(file_name, dtype=float, delimiter=',', unpack=True)\n",
    "\n",
    "flapfoilpath = os.path.join('resources','FlapFoil_N=200.csv')\n",
    "with open (flapfoilpath, 'r') as file_name:\n",
    "    xflap, yflap = numpy.loadtxt(file_name, dtype=float, delimiter=',', unpack=True)\n",
    "    \n",
    "# picking my friends messe\n",
    "xa, xz, ya, yz = -0.1, 1.5, -0.3, 0.2\n",
    "l_total = (numpy.max(xmain)-numpy.min(xmain)) + (numpy.max(xflap)-numpy.min(xflap))\n",
    "\n",
    "# plot em\n",
    "pyplot.figure(figsize=(10,2))\n",
    "pyplot.plot(xmain, ymain, xflap, yflap,  color='b', linestyle='-', linewidth=2)\n",
    "pyplot.xlim(xa, xz)\n",
    "pyplot.ylim(ya, yz);"
   ]
  },
  {
   "cell_type": "code",
   "execution_count": 3,
   "metadata": {
    "collapsed": false
   },
   "outputs": [],
   "source": [
    "mainpanels = cam_define_panels(xmain,ymain,len(xmain)-1)\n",
    "flappanels = cam_define_panels(xflap,yflap,len(xflap)-1)\n",
    "panels = numpy.concatenate((mainpanels, flappanels), axis=0)"
   ]
  },
  {
   "cell_type": "code",
   "execution_count": 4,
   "metadata": {
    "collapsed": false
   },
   "outputs": [
    {
     "data": {
      "image/png": "[encoded data removed]",
      "text/plain": [
       "<matplotlib.figure.Figure at 0x7f581e455550>"
      ]
     },
     "metadata": {},
     "output_type": "display_data"
    }
   ],
   "source": [
    "# and plot this\n",
    "width = 10\n",
    "pyplot.figure(figsize=(width, width))\n",
    "pyplot.xlabel('x', fontsize=16)\n",
    "pyplot.ylabel('y', fontsize=16)\n",
    "pyplot.plot(xmain, ymain, xflap, yflap, color='b', linestyle='-', linewidth=4)\n",
    "pyplot.plot(numpy.append([panel.xa for panel in panels], panels[0].xa),\n",
    "            numpy.append([panel.ya for panel in panels], panels[0].ya),\n",
    "            linestyle='-', linewidth=0, marker='o', markersize=7, color='r')\n",
    "pyplot.axis('scaled', adjustable='box')\n",
    "pyplot.xlim(xa, xz)\n",
    "pyplot.ylim(ya, yz);"
   ]
  },
  {
   "cell_type": "code",
   "execution_count": 5,
   "metadata": {
    "collapsed": false
   },
   "outputs": [],
   "source": [
    "# Get our scaling right for the plots\n",
    "val_x, val_y = 2.0, 4.0\n",
    "x_min, x_max = numpy.min( [panel.xa for panel in mainpanels] ), numpy.max( [panel.xa for panel in flappanels] )\n",
    "y_min, y_max = numpy.min( [panel.ya for panel in flappanels] ), numpy.max( [panel.ya for panel in mainpanels] )\n",
    "x_start, x_end = x_min-val_x*(x_max-x_min), x_max+val_x*(x_max-x_min)\n",
    "y_start, y_end = y_min-val_y*(y_max-y_min), y_max+val_y*(y_max-y_min)\n",
    "\n",
    "# Create our meshgrid for the plots\n",
    "x, y, X, Y = makemesh(N, x_start, x_end, y_start, y_end)"
   ]
  },
  {
   "cell_type": "code",
   "execution_count": 6,
   "metadata": {
    "collapsed": false
   },
   "outputs": [
    {
     "name": "stderr",
     "output_type": "stream",
     "text": [
      "/home/gil/anaconda3/lib/python3.5/site-packages/ipykernel/__main__.py:56: VisibleDeprecationWarning: using a non-integer number instead of an integer will result in an error in the future\n",
      "/home/gil/anaconda3/lib/python3.5/site-packages/ipykernel/__main__.py:57: VisibleDeprecationWarning: using a non-integer number instead of an integer will result in an error in the future\n",
      "/home/gil/anaconda3/lib/python3.5/site-packages/ipykernel/__main__.py:61: VisibleDeprecationWarning: using a non-integer number instead of an integer will result in an error in the future\n",
      "/home/gil/anaconda3/lib/python3.5/site-packages/ipykernel/__main__.py:62: VisibleDeprecationWarning: using a non-integer number instead of an integer will result in an error in the future\n",
      "/home/gil/anaconda3/lib/python3.5/site-packages/ipykernel/__main__.py:73: VisibleDeprecationWarning: using a non-integer number instead of an integer will result in an error in the future\n",
      "/home/gil/anaconda3/lib/python3.5/site-packages/ipykernel/__main__.py:22: VisibleDeprecationWarning: using a non-integer number instead of an integer will result in an error in the future\n",
      "/home/gil/anaconda3/lib/python3.5/site-packages/ipykernel/__main__.py:23: VisibleDeprecationWarning: using a non-integer number instead of an integer will result in an error in the future\n"
     ]
    }
   ],
   "source": [
    "A, At = build_matrix(panels)\n",
    "b = build_rhs(panels, freestream)\n",
    "variables = numpy.linalg.solve(A,b)"
   ]
  },
  {
   "cell_type": "code",
   "execution_count": null,
   "metadata": {
    "collapsed": false
   },
   "outputs": [],
   "source": [
    "for j, panel in enumerate(panels):\n",
    "    panel.sigma = variables[j]\n",
    "        \n",
    "gamma = variables[-2:]\n",
    "get_tangential_velocity(panels, freestream, gamma, At)\n",
    "get_pressure_coefficient(panels, freestream)\n",
    "\n",
    "u, v = get_velocity_field(panels, freestream, X, Y)\n",
    "cp = 1.0 - (u**2+v**2)/freestream.u_inf**2\n",
    "panel_main, panel_flap = panels[0:N], panels[N:]"
   ]
  },
  {
   "cell_type": "code",
   "execution_count": null,
   "metadata": {
    "collapsed": false
   },
   "outputs": [],
   "source": [
    "val_x, val_y = 0.10, 0.20\n",
    "x_min, x_max = numpy.min( [panel.xa for panel in panel_main] ), numpy.max( [panel.xa for panel in panel_main] )\n",
    "cp_min, cp_max = numpy.min( [panel.cp for panel in panel_main] ), numpy.max( [panel.cp for panel in panel_main] )\n",
    "x_start, x_end = x_min - val_x * (x_max-x_min), x_max + val_x * (x_max-x_min)\n",
    "y_start, y_end = cp_min - val_y * (cp_max-cp_min), cp_max + val_y * (cp_max-cp_min)\n",
    "\n",
    "pyplot.figure(figsize=(10, 6))\n",
    "pyplot.grid(True)\n",
    "pyplot.xlabel('x', fontsize=16)\n",
    "pyplot.ylabel('$C_p$', fontsize=16)\n",
    "pyplot.plot([panel.xc for panel in panel_main if panel.loc == 'upper'], \n",
    "         [panel.cp for panel in panel_main if panel.loc == 'upper'], \n",
    "         color='r', linestyle='-', linewidth=2, marker='o', markersize=6)\n",
    "pyplot.plot([panel.xc for panel in panel_main if panel.loc == 'lower'], \n",
    "         [panel.cp for panel in panel_main if panel.loc == 'lower'], \n",
    "         color='b', linestyle='-', linewidth=1, marker='o', markersize=6)\n",
    "pyplot.legend(['upper', 'lower'], loc='best', prop={'size':14})\n",
    "pyplot.xlim(x_start, x_end)\n",
    "pyplot.ylim(y_start, y_end)\n",
    "pyplot.gca().invert_yaxis()\n",
    "pyplot.title('Number of panels for main airfoil: %d' % N);"
   ]
  },
  {
   "cell_type": "code",
   "execution_count": null,
   "metadata": {
    "collapsed": false,
    "scrolled": true
   },
   "outputs": [],
   "source": [
    "val_x, val_y = 0.10, 0.20\n",
    "x_min, x_max = numpy.min( [panel.xa for panel in panel_flap] ), numpy.max( [panel.xa for panel in panel_flap] )\n",
    "cp_min, cp_max = numpy.min( [panel.cp for panel in panel_flap] ), numpy.max( [panel.cp for panel in panel_flap] )\n",
    "x_start, x_end = x_min - val_x * (x_max-x_min), x_max + val_x * (x_max-x_min)\n",
    "y_start, y_end = cp_min - val_y * (cp_max-cp_min), cp_max + val_y * (cp_max-cp_min)\n",
    "\n",
    "pyplot.figure(figsize=(10, 6))\n",
    "pyplot.grid(True)\n",
    "pyplot.xlabel('x', fontsize=16)\n",
    "pyplot.ylabel('$C_p$', fontsize=16)\n",
    "pyplot.plot([panel.xc for panel in panel_flap if panel.loc == 'upper'], \n",
    "         [panel.cp for panel in panel_flap if panel.loc == 'upper'], \n",
    "         color='r', linestyle='-', linewidth=2, marker='o', markersize=6)\n",
    "pyplot.plot([panel.xc for panel in panel_flap if panel.loc == 'lower'], \n",
    "         [panel.cp for panel in panel_flap if panel.loc == 'lower'], \n",
    "         color='b', linestyle='-', linewidth=1, marker='o', markersize=6)\n",
    "pyplot.legend(['upper', 'lower'], loc='best', prop={'size':14})\n",
    "pyplot.xlim(x_start, x_end)\n",
    "pyplot.ylim(y_start, y_end)\n",
    "pyplot.gca().invert_yaxis()\n",
    "pyplot.title('Number of panels for flap airfoil: %d' % N);"
   ]
  },
  {
   "cell_type": "code",
   "execution_count": null,
   "metadata": {
    "collapsed": false,
    "scrolled": true
   },
   "outputs": [],
   "source": [
    "val_x, val_y = 0.2, 1.6\n",
    "x_min, x_max = numpy.min( [panel.xa for panel in panels] ), numpy.max( [panel.xa for panel in panels] )\n",
    "y_min, y_max = numpy.min( [panel.ya for panel in panels] ), numpy.max( [panel.ya for panel in panels] )\n",
    "x_start, x_end = x_min-val_x*(x_max-x_min), x_max+val_x*(x_max-x_min)\n",
    "y_start, y_end = y_min-val_y*(y_max-y_min), y_max+val_y*(y_max-y_min)\n",
    "\n",
    "fig = pyplot.figure(figsize=(12.75, 6))\n",
    "pyplot.xlabel('x', fontsize=16)\n",
    "pyplot.ylabel('y', fontsize=16)\n",
    "pyplot.xlim(x_start, x_end)\n",
    "pyplot.ylim(y_start, y_end)\n",
    "pyplot.title('Streamlines & Pressure', fontsize=16)\n",
    "contf = pyplot.contourf(X, Y, cp, levels=numpy.linspace(-2.0, 1.0, 100), extend='both')\n",
    "cbar = pyplot.colorbar(contf)\n",
    "cbar.set_label('$C_p$', fontsize=16)\n",
    "cbar.set_ticks([-2.0, -1.0, 0.0, 1.0])\n",
    "\n",
    "pyplot.streamplot(X, Y, u, v, density=2, linewidth=1, arrowsize=1, arrowstyle='->')\n",
    "pyplot.fill([panel.xc for panel in panel_main], \n",
    "         [panel.yc for panel in panel_main], \n",
    "         color='k', linestyle='solid', linewidth=2, zorder=2)\n",
    "pyplot.fill([panel.xc for panel in panel_flap], \n",
    "         [panel.yc for panel in panel_flap], \n",
    "         color='k', linestyle='solid', linewidth=2, zorder=2);"
   ]
  },
  {
   "cell_type": "code",
   "execution_count": null,
   "metadata": {
    "collapsed": false
   },
   "outputs": [],
   "source": [
    "# Question 1\n",
    "q1 = mainpanels[2].cp\n",
    "print('Cp for 3rd panel on main: ', str(q1))\n",
    "\n",
    "# Question 2\n",
    "q2 = flappanels[9].cp\n",
    "print('Cp for 10th panel on main: ', str(q2))"
   ]
  },
  {
   "cell_type": "code",
   "execution_count": null,
   "metadata": {
    "collapsed": false,
    "scrolled": true
   },
   "outputs": [],
   "source": [
    "panels = numpy.concatenate((panel_main, panel_flap), axis=0)\n",
    "\n",
    "lift = 0\n",
    "drag = 0\n",
    "\n",
    "accuracy = sum([panel.sigma*panel.length for panel in panel_main])\n",
    "accuracy += sum([panel.sigma*panel.length for panel in panel_flap])\n",
    "    \n",
    "for panel in panels:\n",
    "    lift -= panel.cp * panel.length * math.sin(panel.beta)\n",
    "    drag += panel.cp * panel.length * math.cos(panel.beta) \n",
    "    \n",
    "# Question 3\n",
    "print('Q3')\n",
    "print('Total value of lift: ', lift)\n",
    "\n",
    "# Question 4\n",
    "print('Q4')\n",
    "print('Total value of drag: ', drag)\n",
    "\n",
    "# Question 5  \n",
    "print('Q5')  \n",
    "oldlift = 3.69771447686\n",
    "print('Value of lift for N=100: ', oldlift)\n",
    "\n",
    "#print('Sum (N=' + str(N) + '): ' + str(accuracy))\n",
    "#print('Sum (N=100): -0.00174836054324')\n",
    "#accuracy1 = -0.00174836054324\n",
    "percent = 100* (oldlift - lift) / oldlift\n",
    "print('Change in: ', percent)"
   ]
  },
  {
   "cell_type": "code",
   "execution_count": null,
   "metadata": {
    "collapsed": false
   },
   "outputs": [],
   "source": []
  },
  {
   "cell_type": "code",
   "execution_count": null,
   "metadata": {
    "collapsed": false
   },
   "outputs": [],
   "source": []
  },
  {
   "cell_type": "code",
   "execution_count": null,
   "metadata": {
    "collapsed": false
   },
   "outputs": [],
   "source": []
  },
  {
   "cell_type": "code",
   "execution_count": null,
   "metadata": {
    "collapsed": true
   },
   "outputs": [],
   "source": []
  },
  {
   "cell_type": "code",
   "execution_count": null,
   "metadata": {
    "collapsed": true
   },
   "outputs": [],
   "source": []
  },
  {
   "cell_type": "code",
   "execution_count": null,
   "metadata": {
    "collapsed": true
   },
   "outputs": [],
   "source": []
  },
  {
   "cell_type": "code",
   "execution_count": null,
   "metadata": {
    "collapsed": true
   },
   "outputs": [],
   "source": []
  },
  {
   "cell_type": "code",
   "execution_count": null,
   "metadata": {
    "collapsed": true
   },
   "outputs": [],
   "source": []
  }
 ],
 "metadata": {
  "anaconda-cloud": {},
  "kernelspec": {
   "display_name": "Python [default]",
   "language": "python",
   "name": "python3"
  },
  "language_info": {
   "codemirror_mode": {
    "name": "ipython",
    "version": 3
   },
   "file_extension": ".py",
   "mimetype": "text/x-python",
   "name": "python",
   "nbconvert_exporter": "python",
   "pygments_lexer": "ipython3",
   "version": "3.5.2"
  }
 },
 "nbformat": 4,
 "nbformat_minor": 1
}
