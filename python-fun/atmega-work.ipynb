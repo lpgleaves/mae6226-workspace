{
 "cells": [
  {
   "cell_type": "code",
   "execution_count": 35,
   "metadata": {
    "collapsed": false
   },
   "outputs": [
    {
     "name": "stdout",
     "output_type": "stream",
     "text": [
      "ocr2a =  1 resulting in 3906.25\n",
      "ocr2a =  1024 resulting in 7.621951219512195\n"
     ]
    }
   ],
   "source": [
    "# defaults\n",
    "fclock = 16 * 10**6    # Hz\n",
    "N = 1024               # unitless\n",
    "\n",
    "# foc2a = fclock / (2*N*(1+ocr2a))\n",
    "\n",
    "ocr2a = 1\n",
    "foc2a = fclock / (2*N*(1+ocr2a))\n",
    "print('ocr2a = ', ocr2a, 'resulting in', str(foc2a))\n",
    "\n",
    "ocr2a = 1024\n",
    "foc2a = fclock / (2*N*(1+ocr2a))\n",
    "print('ocr2a = ', ocr2a, 'resulting in', str(foc2a))"
   ]
  },
  {
   "cell_type": "code",
   "execution_count": null,
   "metadata": {
    "collapsed": true
   },
   "outputs": [],
   "source": []
  }
 ],
 "metadata": {
  "anaconda-cloud": {},
  "kernelspec": {
   "display_name": "Python [default]",
   "language": "python",
   "name": "python3"
  },
  "language_info": {
   "codemirror_mode": {
    "name": "ipython",
    "version": 3
   },
   "file_extension": ".py",
   "mimetype": "text/x-python",
   "name": "python",
   "nbconvert_exporter": "python",
   "pygments_lexer": "ipython3",
   "version": "3.5.2"
  }
 },
 "nbformat": 4,
 "nbformat_minor": 1
}
