{
 "cells": [
  {
   "cell_type": "code",
   "execution_count": 7,
   "metadata": {
    "collapsed": false
   },
   "outputs": [],
   "source": [
    "import random"
   ]
  },
  {
   "cell_type": "code",
   "execution_count": 8,
   "metadata": {
    "collapsed": false
   },
   "outputs": [],
   "source": [
    "# need to import names from text file \n",
    "f = open('names.txt','r')\n",
    "# same for prompt files\n",
    "names = f.readlines()\n",
    "\n",
    "g = open('unused-prompts.txt','r')\n",
    "prompts = g.readlines()"
   ]
  },
  {
   "cell_type": "code",
   "execution_count": 22,
   "metadata": {
    "collapsed": false
   },
   "outputs": [
    {
     "name": "stdout",
     "output_type": "stream",
     "text": [
      "Would you like a character suggestion? (y/n): y\n",
      "Cool! Would you like a prompt suggestion? (y/n): y\n"
     ]
    }
   ],
   "source": [
    "charpick = input('Would you like a character suggestion? (y/n): ')\n",
    "propick = input('Cool! Would you like a prompt suggestion? (y/n): ')"
   ]
  },
  {
   "cell_type": "code",
   "execution_count": 30,
   "metadata": {
    "collapsed": false
   },
   "outputs": [
    {
     "name": "stdout",
     "output_type": "stream",
     "text": [
      "Great, thanks! Coming right up -- \n",
      "\n",
      "\tCharacter suggestion: \tIgor Karkaroff \n",
      "\n",
      "\tPrompt suggestion: \t210\tIndex\n",
      "\n"
     ]
    }
   ],
   "source": [
    "if (propick == 'n' and charpick == 'n'):\n",
    "    print('What are you even doing here?')\n",
    "else: \n",
    "    print('Great, thanks! Coming right up -- \\n')\n",
    "    \n",
    "if (charpick == 'y'):\n",
    "    print('\\tCharacter suggestion: \\t' + random.choice(names))\n",
    "if (propick == 'y'):\n",
    "    print('\\tPrompt suggestion: \\t' + random.choice(prompts))"
   ]
  },
  {
   "cell_type": "code",
   "execution_count": null,
   "metadata": {
    "collapsed": true
   },
   "outputs": [],
   "source": []
  },
  {
   "cell_type": "code",
   "execution_count": null,
   "metadata": {
    "collapsed": true
   },
   "outputs": [],
   "source": []
  }
 ],
 "metadata": {
  "anaconda-cloud": {},
  "kernelspec": {
   "display_name": "Python [conda root]",
   "language": "python",
   "name": "conda-root-py"
  },
  "language_info": {
   "codemirror_mode": {
    "name": "ipython",
    "version": 3
   },
   "file_extension": ".py",
   "mimetype": "text/x-python",
   "name": "python",
   "nbconvert_exporter": "python",
   "pygments_lexer": "ipython3",
   "version": "3.5.2"
  }
 },
 "nbformat": 4,
 "nbformat_minor": 1
}
