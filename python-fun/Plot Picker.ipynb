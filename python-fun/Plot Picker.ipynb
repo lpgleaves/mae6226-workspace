{
 "cells": [
  {
   "cell_type": "code",
   "execution_count": 13,
   "metadata": {
    "collapsed": false
   },
   "outputs": [],
   "source": [
    "import random"
   ]
  },
  {
   "cell_type": "code",
   "execution_count": 14,
   "metadata": {
    "collapsed": false
   },
   "outputs": [
    {
     "name": "stdout",
     "output_type": "stream",
     "text": [
      "Character suggestion: Hepzibah Smith \n",
      "\n",
      "Prompt suggestion: 63\tThe Yellow Man\n",
      "\n"
     ]
    }
   ],
   "source": [
    "# need to import names from text file \n",
    "f = open('names.txt','r')\n",
    "# same for prompt files\n",
    "names = f.readlines()\n",
    "\n",
    "g = open('unused-prompts.txt','r')\n",
    "prompts = g.readlines()\n",
    "\n",
    "print('Character suggestion: ' + random.choice(names))\n",
    "print('Prompt suggestion: ' + random.choice(prompts))"
   ]
  },
  {
   "cell_type": "code",
   "execution_count": null,
   "metadata": {
    "collapsed": false
   },
   "outputs": [],
   "source": []
  },
  {
   "cell_type": "code",
   "execution_count": null,
   "metadata": {
    "collapsed": true
   },
   "outputs": [],
   "source": []
  }
 ],
 "metadata": {
  "anaconda-cloud": {},
  "kernelspec": {
   "display_name": "Python [conda root]",
   "language": "python",
   "name": "conda-root-py"
  },
  "language_info": {
   "codemirror_mode": {
    "name": "ipython",
    "version": 3
   },
   "file_extension": ".py",
   "mimetype": "text/x-python",
   "name": "python",
   "nbconvert_exporter": "python",
   "pygments_lexer": "ipython3",
   "version": "3.5.2"
  }
 },
 "nbformat": 4,
 "nbformat_minor": 1
}
