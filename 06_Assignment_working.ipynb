{
 "cells": [
  {
   "cell_type": "markdown",
   "metadata": {},
   "source": [
    "## Lesson 06 Notes: Joukowski Transformation"
   ]
  },
  {
   "cell_type": "code",
   "execution_count": 97,
   "metadata": {
    "collapsed": false
   },
   "outputs": [],
   "source": [
    "import numpy\n",
    "import math\n",
    "from matplotlib import pyplot\n",
    "# embed the figures into the notebook\n",
    "%matplotlib inline\n",
    "%run ./definitions.ipynb"
   ]
  },
  {
   "cell_type": "markdown",
   "metadata": {},
   "source": [
    "## 1. Complex Numbers in Python"
   ]
  },
  {
   "cell_type": "code",
   "execution_count": 98,
   "metadata": {
    "collapsed": false
   },
   "outputs": [
    {
     "name": "stdout",
     "output_type": "stream",
     "text": [
      "z =  (6+1j)\n",
      "The type of the variable is  <class 'complex'>\n"
     ]
    }
   ],
   "source": [
    "a = 3\n",
    "b = 3\n",
    "z = a + b + 1j\n",
    "print('z = ', z)\n",
    "print('The type of the variable is ', type(z))"
   ]
  },
  {
   "cell_type": "markdown",
   "metadata": {},
   "source": [
    "### Exercises for HW 2"
   ]
  },
  {
   "cell_type": "code",
   "execution_count": 99,
   "metadata": {
    "collapsed": false,
    "scrolled": true
   },
   "outputs": [
    {
     "name": "stdout",
     "output_type": "stream",
     "text": [
      "Answer 1:  (46.1322+14.692000000000004j)\n",
      "Answer 2:  (0.799270785858-1.1494199454j)\n",
      "Answer 3:  (-0.4880897698448308-1.0033441577191493j)\n"
     ]
    }
   ],
   "source": [
    "a = 2.75 + 3.69j\n",
    "b = 8.55 - 6.13j\n",
    "answer1 = a * b\n",
    "\n",
    "answer2 = 1.4 * numpy.exp(5.32j)\n",
    "\n",
    "c = 7.51 - 9.15j\n",
    "d = 4.43 + 9.64j\n",
    "\n",
    "answer3 = c / d\n",
    "\n",
    "print('Answer 1: ', answer1)\n",
    "print('Answer 2: ', answer2)\n",
    "print('Answer 3: ', answer3)"
   ]
  },
  {
   "cell_type": "markdown",
   "metadata": {},
   "source": [
    "## 2. Shapes created by the Joukowski transformation"
   ]
  },
  {
   "cell_type": "code",
   "execution_count": 134,
   "metadata": {
    "collapsed": false
   },
   "outputs": [
    {
     "data": {
      "text/plain": [
       "(-3, 3)"
      ]
     },
     "execution_count": 134,
     "metadata": {},
     "output_type": "execute_result"
    },
    {
     "data": {
      "image/png": "[encoded data removed]",
      "text/plain": [
       "<matplotlib.figure.Figure at 0x7fe4ac3c8b70>"
      ]
     },
     "metadata": {},
     "output_type": "display_data"
    }
   ],
   "source": [
    "r = 1\n",
    "c = 1\n",
    "theta = numpy.linspace(0,2*numpy.pi,100)\n",
    "zcirc = (r*numpy.cos(theta))+(r*numpy.sin(theta)*1j)\n",
    "zeta1 = zcirc + c**2/(zcirc)\n",
    "zeta = zeta1\n",
    "pyplot.plot(zeta.real,zeta.imag)\n",
    "pyplot.xlim(-3,3)\n",
    "pyplot.ylim(-3,3)"
   ]
  },
  {
   "cell_type": "code",
   "execution_count": 135,
   "metadata": {
    "collapsed": false
   },
   "outputs": [
    {
     "data": {
      "text/plain": [
       "(-3, 3)"
      ]
     },
     "execution_count": 135,
     "metadata": {},
     "output_type": "execute_result"
    },
    {
     "data": {
      "image/png": "[encoded data removed]",
      "text/plain": [
       "<matplotlib.figure.Figure at 0x7fe4abeea240>"
      ]
     },
     "metadata": {},
     "output_type": "display_data"
    }
   ],
   "source": [
    "r = 1.4\n",
    "c = 1\n",
    "theta = numpy.linspace(0,2*numpy.pi,100)\n",
    "zcirc = (r*numpy.cos(theta))+(r*numpy.sin(theta)*1j)\n",
    "zeta2 = zcirc + c**2/(zcirc)\n",
    "zeta = zeta2\n",
    "pyplot.plot(zeta.real,zeta.imag)\n",
    "pyplot.xlim(-3,3)\n",
    "pyplot.ylim(-3,3)"
   ]
  },
  {
   "cell_type": "code",
   "execution_count": 139,
   "metadata": {
    "collapsed": false
   },
   "outputs": [
    {
     "data": {
      "text/plain": [
       "(-3, 3)"
      ]
     },
     "execution_count": 139,
     "metadata": {},
     "output_type": "execute_result"
    },
    {
     "data": {
      "image/png": "[encoded data removed]",
      "text/plain": [
       "<matplotlib.figure.Figure at 0x7fe4ac06eba8>"
      ]
     },
     "metadata": {},
     "output_type": "display_data"
    }
   ],
   "source": [
    "r = 1.2\n",
    "c = 1\n",
    "xc, yc = c-r,0\n",
    "theta = numpy.linspace(0,2*numpy.pi,100)\n",
    "zcirc = (r*numpy.cos(theta) + xc)+((r*numpy.sin(theta) + yc)*1j)\n",
    "zeta2 = zcirc + c**2/(zcirc)\n",
    "zeta = zeta2\n",
    "pyplot.plot(zeta.real,zeta.imag)\n",
    "pyplot.xlim(-3,3)\n",
    "pyplot.ylim(-3,3)"
   ]
  },
  {
   "cell_type": "code",
   "execution_count": 140,
   "metadata": {
    "collapsed": false
   },
   "outputs": [
    {
     "data": {
      "text/plain": [
       "(-3, 3)"
      ]
     },
     "execution_count": 140,
     "metadata": {},
     "output_type": "execute_result"
    },
    {
     "data": {
      "image/png": "[encoded data removed]",
      "text/plain": [
       "<matplotlib.figure.Figure at 0x7fe4ac0aa4a8>"
      ]
     },
     "metadata": {},
     "output_type": "display_data"
    }
   ],
   "source": [
    "xc, yc = -0.1,0.1\n",
    "c = 1\n",
    "r = numpy.sqrt((c+xc)**2+yc**2)\n",
    "theta = numpy.linspace(0,2*numpy.pi,100)\n",
    "zcirc = (r*numpy.cos(theta) - xc)+((r*numpy.sin(theta) + yc)*1j)\n",
    "zeta2 = zcirc + c**2/(zcirc)\n",
    "zeta = zeta2\n",
    "pyplot.plot(zeta.real,zeta.imag)\n",
    "pyplot.xlim(-3,3)\n",
    "pyplot.ylim(-3,3)"
   ]
  },
  {
   "cell_type": "code",
   "execution_count": null,
   "metadata": {
    "collapsed": false
   },
   "outputs": [],
   "source": []
  },
  {
   "cell_type": "code",
   "execution_count": null,
   "metadata": {
    "collapsed": true
   },
   "outputs": [],
   "source": []
  }
 ],
 "metadata": {
  "anaconda-cloud": {},
  "kernelspec": {
   "display_name": "Python [conda root]",
   "language": "python",
   "name": "conda-root-py"
  },
  "language_info": {
   "codemirror_mode": {
    "name": "ipython",
    "version": 3
   },
   "file_extension": ".py",
   "mimetype": "text/x-python",
   "name": "python",
   "nbconvert_exporter": "python",
   "pygments_lexer": "ipython3",
   "version": "3.5.2"
  }
 },
 "nbformat": 4,
 "nbformat_minor": 1
}
